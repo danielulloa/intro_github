{
 "metadata": {
  "language_info": {
   "codemirror_mode": {
    "name": "ipython",
    "version": 3
   },
   "file_extension": ".py",
   "mimetype": "text/x-python",
   "name": "python",
   "nbconvert_exporter": "python",
   "pygments_lexer": "ipython3",
   "version": "3.8.5-final"
  },
  "orig_nbformat": 2,
  "kernelspec": {
   "name": "python3",
   "display_name": "Python 3.8.5 32-bit",
   "metadata": {
    "interpreter": {
     "hash": "3d2823e65eb53794210435f0f745d9183e7386bb3be29835dddf2988987c900f"
    }
   }
  }
 },
 "nbformat": 4,
 "nbformat_minor": 2,
 "cells": [
  {
   "source": [
    "# Uno"
   ],
   "cell_type": "markdown",
   "metadata": {}
  },
  {
   "cell_type": "code",
   "execution_count": 1,
   "metadata": {
    "tags": []
   },
   "outputs": [
    {
     "output_type": "stream",
     "name": "stdout",
     "text": [
      "11\n"
     ]
    }
   ],
   "source": [
    "a = 6\n",
    "b = 5\n",
    "c = a+b\n",
    "print(c)"
   ]
  },
  {
   "source": [
    "# DOS"
   ],
   "cell_type": "markdown",
   "metadata": {}
  },
  {
   "source": [
    "# aqui tiene que estar la seccion dos del programa\n",
    "# Código con ciclo while\n",
    "cantidad_actual = 1000\n",
    "tasa_de_interes = 1\n",
    "mes = 0\n",
    "while mes < 12:\n",
    "    cantidad_siguiente = cantidad_actual + cantidad_actual * tasa_de_interes / 100\n",
    "    print(cantidad_actual, ' --> ', cantidad_siguiente)\n",
    "    cantidad_actual = cantidad_siguiente\n",
    "    mes += 1"
   ],
   "cell_type": "code",
   "metadata": {},
   "execution_count": 2,
   "outputs": [
    {
     "output_type": "stream",
     "name": "stdout",
     "text": [
      "1000  -->  1010.0\n1010.0  -->  1020.1\n1020.1  -->  1030.301\n1030.301  -->  1040.60401\n1040.60401  -->  1051.0100501\n1051.0100501  -->  1061.5201506009998\n1061.5201506009998  -->  1072.1353521070098\n1072.1353521070098  -->  1082.85670562808\n1082.85670562808  -->  1093.6852726843606\n1093.6852726843606  -->  1104.6221254112043\n1104.6221254112043  -->  1115.6683466653162\n1115.6683466653162  -->  1126.8250301319695\n"
     ]
    }
   ]
  },
  {
   "cell_type": "code",
   "execution_count": null,
   "metadata": {},
   "outputs": [],
   "source": []
  }
 ]
}